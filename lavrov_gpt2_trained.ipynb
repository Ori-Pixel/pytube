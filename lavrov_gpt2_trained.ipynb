{
  "nbformat": 4,
  "nbformat_minor": 0,
  "metadata": {
    "colab": {
      "name": "lavrov_gpt2_trained.ipynb",
      "provenance": [],
      "collapsed_sections": [],
      "mount_file_id": "1Nqr9Ci7YLYbADIaH0ubrZyInKNQc-tnL",
      "authorship_tag": "ABX9TyOH9MnxYvYfu38cFPl35a04",
      "include_colab_link": true
    },
    "kernelspec": {
      "name": "python3",
      "display_name": "Python 3"
    },
    "accelerator": "GPU"
  },
  "cells": [
    {
      "cell_type": "markdown",
      "metadata": {
        "id": "view-in-github",
        "colab_type": "text"
      },
      "source": [
        "<a href=\"https://colab.research.google.com/github/Ori-Pixel/pytube/blob/master/lavrov_gpt2_trained.ipynb\" target=\"_parent\"><img src=\"https://colab.research.google.com/assets/colab-badge.svg\" alt=\"Open In Colab\"/></a>"
      ]
    },
    {
      "cell_type": "code",
      "metadata": {
        "id": "t3he1QdbwZlN",
        "colab_type": "code",
        "outputId": "75c9be7e-e2b8-4da3-c7b3-8c1d4ef145df",
        "colab": {
          "base_uri": "https://localhost:8080/",
          "height": 306
        }
      },
      "source": [
        "!nvidia-smi                                                                                  "
      ],
      "execution_count": 0,
      "outputs": [
        {
          "output_type": "stream",
          "text": [
            "Sun May  3 18:05:26 2020       \n",
            "+-----------------------------------------------------------------------------+\n",
            "| NVIDIA-SMI 440.64.00    Driver Version: 418.67       CUDA Version: 10.1     |\n",
            "|-------------------------------+----------------------+----------------------+\n",
            "| GPU  Name        Persistence-M| Bus-Id        Disp.A | Volatile Uncorr. ECC |\n",
            "| Fan  Temp  Perf  Pwr:Usage/Cap|         Memory-Usage | GPU-Util  Compute M. |\n",
            "|===============================+======================+======================|\n",
            "|   0  Tesla P100-PCIE...  Off  | 00000000:00:04.0 Off |                    0 |\n",
            "| N/A   37C    P0    26W / 250W |      0MiB / 16280MiB |      0%      Default |\n",
            "+-------------------------------+----------------------+----------------------+\n",
            "                                                                               \n",
            "+-----------------------------------------------------------------------------+\n",
            "| Processes:                                                       GPU Memory |\n",
            "|  GPU       PID   Type   Process name                             Usage      |\n",
            "|=============================================================================|\n",
            "|  No running processes found                                                 |\n",
            "+-----------------------------------------------------------------------------+\n"
          ],
          "name": "stdout"
        }
      ]
    },
    {
      "cell_type": "code",
      "metadata": {
        "id": "_ruJJCUTn1E0",
        "colab_type": "code",
        "outputId": "78bd0f0c-fbfb-4fda-ab04-35da682a2e31",
        "colab": {
          "base_uri": "https://localhost:8080/",
          "height": 170
        }
      },
      "source": [
        "%tensorflow_version 1.x\n",
        "!pip install -q gpt-2-simple\n",
        "import gpt_2_simple as gpt2\n",
        "from datetime import datetime\n",
        "from google.colab import files"
      ],
      "execution_count": 1,
      "outputs": [
        {
          "output_type": "stream",
          "text": [
            "TensorFlow 1.x selected.\n",
            "WARNING:tensorflow:\n",
            "The TensorFlow contrib module will not be included in TensorFlow 2.0.\n",
            "For more information, please see:\n",
            "  * https://github.com/tensorflow/community/blob/master/rfcs/20180907-contrib-sunset.md\n",
            "  * https://github.com/tensorflow/addons\n",
            "  * https://github.com/tensorflow/io (for I/O related ops)\n",
            "If you depend on functionality not listed there, please file an issue.\n",
            "\n"
          ],
          "name": "stdout"
        }
      ]
    },
    {
      "cell_type": "code",
      "metadata": {
        "id": "mBQPDYt4vD6r",
        "colab_type": "code",
        "colab": {}
      },
      "source": [
        "import os\n",
        "#get current working directory\n",
        "import json\n",
        "import string\n",
        "articles_string = ''\n",
        "with open(\"/content/drive/My Drive/lavrov.json\") as f:\n",
        "    jsonString = f.read()\n",
        "    jsonData = json.loads(jsonString)\n",
        "    for i in range(0, len(jsonData)):\n",
        "      cleaned_articletext= jsonData[i]['ArticleText'].replace('Toggle navigation      / / Asset Publisher' ,'')\n",
        "      cleaned_articletext = cleaned_articletext.replace('Advanced settings         Switcher      6 Photos close','')\n",
        "      articles_string = articles_string + ' ' + cleaned_articletext\n",
        "lavrovwritefile=open(\"lavrov_cleaned.txt\",'w')\n",
        "lavrovwritefile.write(articles_string)\n",
        "lavrovwritefile.close()"
      ],
      "execution_count": 0,
      "outputs": []
    },
    {
      "cell_type": "code",
      "metadata": {
        "id": "SrhjbrgLqpST",
        "colab_type": "code",
        "colab": {}
      },
      "source": [
        "!pip install gpt2_client\n",
        "from gpt2_client import GPT2Client\n",
        "#download gpt2 model, or use one cached in content->gpt-s->models\n",
        "gpt2 = GPT2Client('345M') # This could also be '117', '345M', '774M', or '1558M'.\n",
        "gpt2.load_model(force_download=False) # Use cached versions if available."
      ],
      "execution_count": 0,
      "outputs": []
    },
    {
      "cell_type": "code",
      "metadata": {
        "id": "3Z2vWsMXq8Uu",
        "colab_type": "code",
        "colab": {}
      },
      "source": [
        "from gpt2_client import GPT2Client\n",
        "\n",
        "gpt2 = GPT2Client('345M') # This could also be `345M`, `774M`, or `1558M`\n",
        "\n",
        "\n",
        "my_corpus = '/content/drive/My Drive/lavrov_cleaned.txt' # path to corpus\n",
        "custom_text = gpt2.finetune(my_corpus, return_text=True) # Load your custom dataset"
      ],
      "execution_count": 0,
      "outputs": []
    },
    {
      "cell_type": "code",
      "metadata": {
        "id": "ACl2CU4jsFl_",
        "colab_type": "code",
        "colab": {
          "base_uri": "https://localhost:8080/",
          "height": 51
        },
        "outputId": "b06774aa-73a0-43fc-c835-3661224763f8"
      },
      "source": [
        "import gpt_2_simple as gpt2\n",
        "gpt2.copy_checkpoint_from_gdrive(run_name='run1')\n",
        "sess = gpt2.start_tf_sess()\n",
        "gpt2.load_gpt2(sess, run_name='run1')"
      ],
      "execution_count": 3,
      "outputs": [
        {
          "output_type": "stream",
          "text": [
            "Loading checkpoint checkpoint/run1/model-1000\n",
            "INFO:tensorflow:Restoring parameters from checkpoint/run1/model-1000\n"
          ],
          "name": "stdout"
        }
      ]
    },
    {
      "cell_type": "code",
      "metadata": {
        "id": "HWVbJDUC63SC",
        "colab_type": "code",
        "colab": {
          "base_uri": "https://localhost:8080/",
          "height": 207
        },
        "outputId": "26152f83-5a45-40d9-980b-ac9fd343a8a8"
      },
      "source": [
        "gpt2.generate(sess,\n",
        "              checkpoint_dir='/content/checkpoint',\n",
        "              length=250,\n",
        "              temperature = .8,\n",
        "              nsamples=5,\n",
        "              batch_size=5)"
      ],
      "execution_count": 7,
      "outputs": [
        {
          "output_type": "stream",
          "text": [
            "President Vladimir Putin reaffirmed Russia's high readiness to continue improving the state of bilateral cooperation and bringing new countries into the Customs Union, the Eurasian Economic Union and the Common Market. In this context, we have signed an agreement on the extension of the Russian-Ukrainian international civil aviation partnership. We note with satisfaction that the airline RAI has potential and the pilots' union is interested in developing this partnership. Russia is one of the most important partners in the Open Skies Treaty. During the meetings with President of Ukraine Viktor Yanukovych in the 1980s and 1990s, we paid special attention to the situation in Ukraine, particularly the latest developments which resulted in the destruction of the Ukrainian state and the consequent outbreak of the so-called Euromissile crisis. We did not hesitate to call for the immediate return of the Ukrainian authorities to the negotiations and the signing of an external legal document that would provide for a ceasefire and the implementation of the Minsk Agreements. We believe that, while making all the necessary steps, the Ukrainian authorities can and should take to address the most serious of the problems in their country without any preconditions, most importantly, the return of the armed people to the towns and cities. We have a specific communique\n",
            "====================\n",
            "The United Nations (UN) Security Council has approved a resolution on the Philippines' implementation of the agreements reached by the national government during the visit of President Rodrigo Duterte to Moscow. The matter did not come to the attention of press, who tried to present the situation as if it was not committed by the Russian Federation.  We have noted with concern the steps taken by the Russian side to isolate North Korea. It is unnecessary to elaborate on this because the world knows such steps.  The United Nations Security Council should take measures to ensure the reinstatement of sanctions on North Korea. The effective solution to this problem is to normalize the situation and, if necessary, to introduce additional sanctions on the DPRK, and not to treat this as a terrorist act. I am referring to the sanctions imposed on North Korea by the UN Security Council for refusing to comply with the UN Security Council resolution.  This is a major problem.  In conclusion I would like to mention again the situation in Syria. Russia's relations with the United States have not been great for many years. We have always maintained good and friendly relations. They are based on the mutual respect and mutual understanding between our countries. We hold partnerships with the other members of the UN Security Council, which we\n",
            "====================\n",
            "Sensation is gaining ground in the diplomatic community. Unofficial reports have appeared that the delegates of Russia, Belarus and Kazakhstan submitted to the 1867-1868 session of the UN Security Council a draft resolution for an exclusion of Russian troops from the Crimean referendum, which was held on 22 April, and concerned the Crimean parliament, which votes as a body on the issue. This element of the resolution has a very important and odious character. I am referring to the draft resolution which was submitted by Russia, Belarus and Kazakhstan. Here we have the financial and economic interests of the participants in the Crimean referendum, as well as the interests of the Ukrainian people in the sphere of international relations in general. In addition to stressing that belligerent people should exercise self-restraint: any violations, even of the most trivial, should not be repeated and the perpetrators will be brought to justice. The fact that a resolution was submitted by Russia, Belarus and Kazakhstan is further evidence of the fact that the resolution has gained popularity among the delegates of the UN Security Council. The resolution, which was introduced by Russia, Belarus and Kazakhstan, is aimed at the isolation of Russia, Belarus and Kazakhstan from the Crimean referendum. It also indirectly targets the representatives of our country in the\n",
            "====================\n",
            "FCC Information and Public Interest Data Center (PRDIC) is a free public communications tool. This page offers programming tutorials for creating and using it.  As this module is certainly a yearly event, a new version was posted with the release of version 14. You can see the list of modules for this release.                        Instructional survey of Linux kernel development.                  Advanced settings      Switcher    6  18 August 2012 1655-18-08-2012 Dear colleagues,  We have held a productive meeting.  I would like to take this opportunity to express my gratitude to everyone for the energetic and useful work of the working group established by the Russian president and chair of the European Commission, I am convinced that this group will make the next meeting in Brussels a good one.  The general impression is that the working group will be able to make an important contribution to the development of the work of the European Commission on the two principles of our cooperation in the European Union: the principles of the agency's reform, which will\n",
            "====================\n",
            "about a thousand people attended the opening ceremony of the first Peace International on June 15. The organizers of the event are a non-governmental, non-profit organization, which is not controlled by any government or authority. In particular, the organization's founders include Norway, a country with a history of peaceful protest movements. Today the organisation is moving towards its goal of relations with the United Nations and the UN Economic and Social Council. The Peace International was opened with the signing of the Declaration of the Declaration of the 18 June, which recognises the peaceful and irreversible nature of the so-called \"peace process\". The movement of this document, which was concentrated around the construction of your initiative on the Korean Peninsula and DPRK's non-proliferation of nuclear missile technology, has continued for several years. The document passed the UN General Assembly in New York on June 15, 2009 and is now available in English as well as Korean. This document incites many questions regarding the peaceful nature of this process and our concept of the relevant UN Security Council resolutions. The document states that international peace and security can be won only when all the parties have the courage to play it safe and when the possibility to fight the enemies and defend their rights and freedoms is lost. This\n",
            "====================\n"
          ],
          "name": "stdout"
        }
      ]
    },
    {
      "cell_type": "code",
      "metadata": {
        "id": "xYV1BQep-88S",
        "colab_type": "code",
        "colab": {}
      },
      "source": [
        ""
      ],
      "execution_count": 0,
      "outputs": []
    }
  ]
}